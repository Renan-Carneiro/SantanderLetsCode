{
 "cells": [
  {
   "cell_type": "code",
   "execution_count": 1,
   "id": "c9e50bc4",
   "metadata": {},
   "outputs": [
    {
     "name": "stdout",
     "output_type": "stream",
     "text": [
      "[4, 23, 69, 59, 92, 58, 62, 32, 80, 64]\n",
      "7\n"
     ]
    }
   ],
   "source": [
    "#1.Faça um programa que olhe todos os itens de uma lista e diga quantos deles são pares.\n",
    "\n",
    "#Criei uma lista aleatória de 10 valores ao inves de digitar\n",
    "import random\n",
    "randomlist = []\n",
    "for i in range(0,10):\n",
    "    n = random.randint(1,99)\n",
    "    randomlist.append(n)\n",
    "print(randomlist)\n",
    "\n",
    "#aqui eu realmente conto\n",
    "contapar=0\n",
    "for i in randomlist:\n",
    "    if i%2==0: #operador % dá o resto\n",
    "        contapar+=1\n",
    "print(contapar)"
   ]
  },
  {
   "cell_type": "code",
   "execution_count": null,
   "id": "37c5d5c9",
   "metadata": {},
   "outputs": [],
   "source": [
    "#2.Faça um programa que peça para o usuário digitar uma palavra e imprima cada letra em uma linha.\n",
    "palavra=input('Digite uma palavra')\n",
    "pal=list(palavra)\n",
    "for i in pal:\n",
    "    print(i)"
   ]
  },
  {
   "cell_type": "code",
   "execution_count": null,
   "id": "f1b7c4d3",
   "metadata": {},
   "outputs": [],
   "source": [
    "#3.Faça uma função que recebe duas listas e retorna a soma item a item dessas listas.\n",
    "#Exemplo: Se a função receber as listas [1,4,3] e [3,5,1], então a função deve retornar [1+3, 4+5, 3+1] = [4, 9, 4].\n",
    "\n",
    "A=[1,4,3]\n",
    "B=[3,5,1]\n",
    "\n",
    "newlist= [A[i]+B[i] for i in range(0,len(A)) ] #usei list comprehension pra treinar, não estava na aula\n",
    "print(newlist)"
   ]
  },
  {
   "cell_type": "code",
   "execution_count": null,
   "id": "102006a7",
   "metadata": {},
   "outputs": [],
   "source": [
    "#4.Crie um dicionário cujas chaves são os meses do ano e os valores são a duração (em dias) de cada mês.\n",
    "DicMeses={'Janeiro':31,'Fevereiro':28,'Março':31,'Abril':30,'Mario':31,'Junho':30,'Julho':31,'Agosto':31,\n",
    "         'Setembro':30,'Outubro':31,'Novembro':30,'Dezembro':31,}\n",
    "print(DicMeses)"
   ]
  },
  {
   "cell_type": "code",
   "execution_count": null,
   "id": "dc7a3297",
   "metadata": {},
   "outputs": [],
   "source": [
    "#Imprima as chaves seguidas dos seus valores para dicionário criado no exercício anterior.\n",
    "C=DicMeses.items()\n",
    "for item in C:\n",
    "    print(item)"
   ]
  },
  {
   "cell_type": "code",
   "execution_count": null,
   "id": "84c0763a",
   "metadata": {},
   "outputs": [],
   "source": [
    "#2a opção\n",
    "for item in DicMeses.keys():\n",
    "    print(f'{item} tem {DicMeses[item]} dias.')"
   ]
  }
 ],
 "metadata": {
  "kernelspec": {
   "display_name": "Python 3 (ipykernel)",
   "language": "python",
   "name": "python3"
  },
  "language_info": {
   "codemirror_mode": {
    "name": "ipython",
    "version": 3
   },
   "file_extension": ".py",
   "mimetype": "text/x-python",
   "name": "python",
   "nbconvert_exporter": "python",
   "pygments_lexer": "ipython3",
   "version": "3.9.12"
  }
 },
 "nbformat": 4,
 "nbformat_minor": 5
}
